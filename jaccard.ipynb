{
 "cells": [
  {
   "cell_type": "code",
   "execution_count": 42,
   "id": "bbdd97ab",
   "metadata": {},
   "outputs": [
    {
     "name": "stdout",
     "output_type": "stream",
     "text": [
      "ans1.txt\n",
      "0.11904761904761904\n",
      "ans2.txt\n",
      "1.7999999999999998\n",
      "ans3.txt\n",
      "1.7557251908396945\n",
      "ans4.txt\n",
      "6.774193548387096\n",
      "ans5.txt\n",
      "1.4606741573033708\n",
      "ans6.txt\n",
      "4.054054054054054\n",
      "ans7.txt\n",
      "1.276595744680851\n",
      "ans8.txt\n",
      "1.6417910447761195\n",
      "ans9.txt\n",
      "1.776315789473684\n"
     ]
    }
   ],
   "source": [
    "from nltk import sent_tokenize,word_tokenize,PorterStemmer\n",
    "from nltk.corpus import wordnet,stopwords\n",
    "from nltk.tokenize import PunktSentenceTokenizer\n",
    "from nltk.stem import WordNetLemmatizer\n",
    "from nltk.tag import pos_tag\n",
    "import math,re\n",
    "from collections import Counter\n",
    "import numpy as np\n",
    "from math import*\n",
    "from decimal import Decimal\n",
    "from os import listdir\n",
    "from os.path import isfile, join\n",
    "from nltk.corpus import stopwords \n",
    "from nltk.tokenize import word_tokenize \n",
    "\n",
    "def get_jaccard(str1,str2):\n",
    "    a=set(str1.split())\n",
    "    b=set(str2.split())\n",
    "    c=a.intersection(b)\n",
    "    return float(len(c))/(len(a)+len(b)-len(c))\n",
    "\n",
    "mypath=\"text_folder\";\n",
    "onlyfiles = [f for f in listdir(mypath) if isfile(join(mypath, f))]\n",
    "model_txt=open(\"model.txt\",\"r\")\n",
    "mod_text=model_txt.read()\n",
    "\n",
    "for file in onlyfiles:\n",
    "   \n",
    "    input_text=open(file,\"r\")\n",
    "    print(file)\n",
    "    text1=input_text.read()\n",
    "    X=mod_text.lower()\n",
    "    Y=text1.lower()\n",
    "    X.replace(\" \",\"\");\n",
    "    Y.replace(\" \",\"\");\n",
    "    score=get_jaccard(X,Y)\n",
    "    print(score*10)\n",
    "    "
   ]
  },
  {
   "cell_type": "code",
   "execution_count": null,
   "id": "dd20530c",
   "metadata": {},
   "outputs": [],
   "source": []
  },
  {
   "cell_type": "code",
   "execution_count": null,
   "id": "ce21f748",
   "metadata": {},
   "outputs": [],
   "source": []
  },
  {
   "cell_type": "code",
   "execution_count": null,
   "id": "c05ac399",
   "metadata": {},
   "outputs": [],
   "source": []
  }
 ],
 "metadata": {
  "kernelspec": {
   "display_name": "Python 3 (ipykernel)",
   "language": "python",
   "name": "python3"
  },
  "language_info": {
   "codemirror_mode": {
    "name": "ipython",
    "version": 3
   },
   "file_extension": ".py",
   "mimetype": "text/x-python",
   "name": "python",
   "nbconvert_exporter": "python",
   "pygments_lexer": "ipython3",
   "version": "3.9.7"
  }
 },
 "nbformat": 4,
 "nbformat_minor": 5
}
