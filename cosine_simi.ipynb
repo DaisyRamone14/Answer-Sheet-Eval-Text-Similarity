{
 "cells": [
  {
   "cell_type": "code",
   "execution_count": 32,
   "id": "db1e1d21",
   "metadata": {},
   "outputs": [
    {
     "name": "stdout",
     "output_type": "stream",
     "text": [
      "ans1.txt\n",
      "0.3812464258315117\n",
      "ans2.txt\n",
      "2.473853479976467\n",
      "ans3.txt\n",
      "1.5620352911691195\n",
      "ans4.txt\n",
      "8.49076105280404\n",
      "ans5.txt\n",
      "1.829982843991256\n",
      "ans6.txt\n",
      "5.39163866017192\n",
      "ans7.txt\n",
      "1.3076644524148537\n",
      "ans8.txt\n",
      "1.8227065414412231\n",
      "ans9.txt\n",
      "3.068974527617131\n"
     ]
    }
   ],
   "source": [
    "from nltk import sent_tokenize,word_tokenize,PorterStemmer\n",
    "from nltk.corpus import wordnet,stopwords\n",
    "from nltk.tokenize import PunktSentenceTokenizer\n",
    "from nltk.stem import WordNetLemmatizer\n",
    "from nltk.tag import pos_tag\n",
    "import math,re\n",
    "from collections import Counter\n",
    "import numpy as np\n",
    "from math import*\n",
    "from decimal import Decimal\n",
    "from os import listdir\n",
    "from os.path import isfile, join\n",
    "from nltk.corpus import stopwords \n",
    "from nltk.tokenize import word_tokenize \n",
    "mypath=\"text_folder\";\n",
    "onlyfiles = [f for f in listdir(mypath) if isfile(join(mypath, f))]\n",
    "model_txt=open(\"model.txt\",\"r\")\n",
    "mod_text=model_txt.read()\n",
    "def cosine(str1,str2):\n",
    "    X_list = word_tokenize(X)  \n",
    "    Y_list = word_tokenize(Y)\n",
    "    \n",
    "    sw = stopwords.words('english')  \n",
    "    l1 =[];l2 =[] \n",
    "    X_set = {w for w in X_list if not w in sw}  \n",
    "    Y_set = {w for w in Y_list if not w in sw} \n",
    "    rvector = X_set.union(Y_set)  \n",
    "    for w in rvector: \n",
    "        if w in X_set: l1.append(1)\n",
    "        else: l1.append(0) \n",
    "        if w in Y_set: l2.append(1) \n",
    "        else: l2.append(0) \n",
    "    c = 0\n",
    "    for i in range(len(rvector)): \n",
    "        c+= l1[i]*l2[i] \n",
    "    cosine = c / float((sum(l1)*sum(l2))**0.5) \n",
    "    \n",
    "    return cosine\n",
    "for file in onlyfiles:\n",
    "   \n",
    "    input_text=open(file,\"r\")\n",
    "    print(file)\n",
    "    text1=input_text.read()\n",
    "    X=mod_text.lower()\n",
    "    Y=text1.lower()\n",
    "    score=cosine(X,Y) \n",
    "    print (score*10)\n",
    "    "
   ]
  },
  {
   "cell_type": "code",
   "execution_count": null,
   "id": "98497e64",
   "metadata": {},
   "outputs": [],
   "source": []
  },
  {
   "cell_type": "code",
   "execution_count": null,
   "id": "ccba9c33",
   "metadata": {},
   "outputs": [],
   "source": []
  }
 ],
 "metadata": {
  "kernelspec": {
   "display_name": "Python 3 (ipykernel)",
   "language": "python",
   "name": "python3"
  },
  "language_info": {
   "codemirror_mode": {
    "name": "ipython",
    "version": 3
   },
   "file_extension": ".py",
   "mimetype": "text/x-python",
   "name": "python",
   "nbconvert_exporter": "python",
   "pygments_lexer": "ipython3",
   "version": "3.9.7"
  }
 },
 "nbformat": 4,
 "nbformat_minor": 5
}
